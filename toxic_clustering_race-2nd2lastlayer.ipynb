{
 "cells": [
  {
   "cell_type": "markdown",
   "metadata": {},
   "source": [
    "In this notebook, we show the example of doing LOGAN based on the $RACE$ attribute. You can change the corresponding attribute."
   ]
  },
  {
   "cell_type": "code",
   "execution_count": 1,
   "metadata": {},
   "outputs": [],
   "source": [
    "%load_ext autoreload\n",
    "%autoreload 2"
   ]
  },
  {
   "cell_type": "code",
   "execution_count": 2,
   "metadata": {},
   "outputs": [],
   "source": [
    "import pandas as pd \n",
    "import numpy as np \n",
    "import os"
   ]
  },
  {
   "cell_type": "code",
   "execution_count": 3,
   "metadata": {},
   "outputs": [],
   "source": [
    "from sklearn.cluster import KMeans\n",
    "from sklearn.manifold import TSNE\n",
    "import utils"
   ]
  },
  {
   "cell_type": "code",
   "execution_count": 4,
   "metadata": {},
   "outputs": [],
   "source": [
    "from sklearn import metrics\n",
    "from collections import Counter"
   ]
  },
  {
   "cell_type": "code",
   "execution_count": 5,
   "metadata": {},
   "outputs": [],
   "source": [
    "from nltk.tokenize import  word_tokenize\n",
    "from collections import defaultdict\n",
    "from sklearn.metrics import confusion_matrix"
   ]
  },
  {
   "cell_type": "markdown",
   "metadata": {},
   "source": [
    "- ### Section 1: Load the predictions and sentence embeddings"
   ]
  },
  {
   "cell_type": "markdown",
   "metadata": {},
   "source": [
    "We already save the predictions to the csv file and save the sentence embeddings from the second last layer of a vanilla BERT model. We use the sentence embeddings for clustering. \n",
    "\n",
    "- *You can change the feature used here for clustering*"
   ]
  },
  {
   "cell_type": "code",
   "execution_count": 6,
   "metadata": {},
   "outputs": [],
   "source": [
    "test_file = './pred_test_bw_withpredscores.csv'\n",
    "res = pd.read_csv(test_file, index_col=0)"
   ]
  },
  {
   "cell_type": "code",
   "execution_count": 7,
   "metadata": {},
   "outputs": [
    {
     "name": "stdout",
     "output_type": "stream",
     "text": [
      "test embedding shape:(97320, 768)\n"
     ]
    }
   ],
   "source": [
    "#cluster based on sentence embeddings\n",
    "test_embs = np.load('/local/jyzhao/Github/disentanglement/second2last_mean.npy')\n",
    "print(f\"test embedding shape:{test_embs.shape}\")"
   ]
  },
  {
   "cell_type": "code",
   "execution_count": 8,
   "metadata": {},
   "outputs": [],
   "source": [
    "#read the original test dataset\n",
    "data_dir = '/home/jyzhao/git/data/jigsawUnintendedBiasinToxicityClassification'\n",
    "test_df = pd.read_csv(os.path.join(data_dir,\"test_public_expanded.csv\"))"
   ]
  },
  {
   "cell_type": "code",
   "execution_count": 9,
   "metadata": {},
   "outputs": [
    {
     "data": {
      "text/html": [
       "<div>\n",
       "<style scoped>\n",
       "    .dataframe tbody tr th:only-of-type {\n",
       "        vertical-align: middle;\n",
       "    }\n",
       "\n",
       "    .dataframe tbody tr th {\n",
       "        vertical-align: top;\n",
       "    }\n",
       "\n",
       "    .dataframe thead th {\n",
       "        text-align: right;\n",
       "    }\n",
       "</style>\n",
       "<table border=\"1\" class=\"dataframe\">\n",
       "  <thead>\n",
       "    <tr style=\"text-align: right;\">\n",
       "      <th></th>\n",
       "      <th>id</th>\n",
       "      <th>comment_text</th>\n",
       "      <th>created_date</th>\n",
       "      <th>publication_id</th>\n",
       "      <th>parent_id</th>\n",
       "      <th>article_id</th>\n",
       "      <th>rating</th>\n",
       "      <th>funny</th>\n",
       "      <th>wow</th>\n",
       "      <th>sad</th>\n",
       "      <th>...</th>\n",
       "      <th>other_religion</th>\n",
       "      <th>black</th>\n",
       "      <th>white</th>\n",
       "      <th>asian</th>\n",
       "      <th>latino</th>\n",
       "      <th>other_race_or_ethnicity</th>\n",
       "      <th>physical_disability</th>\n",
       "      <th>intellectual_or_learning_disability</th>\n",
       "      <th>psychiatric_or_mental_illness</th>\n",
       "      <th>other_disability</th>\n",
       "    </tr>\n",
       "  </thead>\n",
       "  <tbody>\n",
       "    <tr>\n",
       "      <th>0</th>\n",
       "      <td>7000000</td>\n",
       "      <td>Jeff Sessions is another one of Trump's Orwell...</td>\n",
       "      <td>2017-01-26 07:37:38.422417+00</td>\n",
       "      <td>13</td>\n",
       "      <td>NaN</td>\n",
       "      <td>164149</td>\n",
       "      <td>approved</td>\n",
       "      <td>0</td>\n",
       "      <td>0</td>\n",
       "      <td>0</td>\n",
       "      <td>...</td>\n",
       "      <td>NaN</td>\n",
       "      <td>NaN</td>\n",
       "      <td>NaN</td>\n",
       "      <td>NaN</td>\n",
       "      <td>NaN</td>\n",
       "      <td>NaN</td>\n",
       "      <td>NaN</td>\n",
       "      <td>NaN</td>\n",
       "      <td>NaN</td>\n",
       "      <td>NaN</td>\n",
       "    </tr>\n",
       "  </tbody>\n",
       "</table>\n",
       "<p>1 rows × 45 columns</p>\n",
       "</div>"
      ],
      "text/plain": [
       "        id                                       comment_text  \\\n",
       "0  7000000  Jeff Sessions is another one of Trump's Orwell...   \n",
       "\n",
       "                    created_date  publication_id  parent_id  article_id  \\\n",
       "0  2017-01-26 07:37:38.422417+00              13        NaN      164149   \n",
       "\n",
       "     rating  funny  wow  sad  ...  other_religion  black  white  asian  \\\n",
       "0  approved      0    0    0  ...             NaN    NaN    NaN    NaN   \n",
       "\n",
       "   latino  other_race_or_ethnicity  physical_disability  \\\n",
       "0     NaN                      NaN                  NaN   \n",
       "\n",
       "   intellectual_or_learning_disability  psychiatric_or_mental_illness  \\\n",
       "0                                  NaN                            NaN   \n",
       "\n",
       "   other_disability  \n",
       "0               NaN  \n",
       "\n",
       "[1 rows x 45 columns]"
      ]
     },
     "execution_count": 9,
     "metadata": {},
     "output_type": "execute_result"
    }
   ],
   "source": [
    "test_df[:1]"
   ]
  },
  {
   "cell_type": "code",
   "execution_count": 10,
   "metadata": {},
   "outputs": [
    {
     "data": {
      "text/plain": [
       "Index(['id', 'comment_text', 'created_date', 'publication_id', 'parent_id',\n",
       "       'article_id', 'rating', 'funny', 'wow', 'sad', 'likes', 'disagree',\n",
       "       'toxicity', 'severe_toxicity', 'obscene', 'sexual_explicit',\n",
       "       'identity_attack', 'insult', 'threat', 'identity_annotator_count',\n",
       "       'toxicity_annotator_count', 'male', 'female', 'transgender',\n",
       "       'other_gender', 'heterosexual', 'homosexual_gay_or_lesbian', 'bisexual',\n",
       "       'other_sexual_orientation', 'christian', 'jewish', 'muslim', 'hindu',\n",
       "       'buddhist', 'atheist', 'other_religion', 'black', 'white', 'asian',\n",
       "       'latino', 'other_race_or_ethnicity', 'physical_disability',\n",
       "       'intellectual_or_learning_disability', 'psychiatric_or_mental_illness',\n",
       "       'other_disability', 'target', 'preds', 'pred_score'],\n",
       "      dtype='object')"
      ]
     },
     "execution_count": 10,
     "metadata": {},
     "output_type": "execute_result"
    }
   ],
   "source": [
    "res.columns"
   ]
  },
  {
   "cell_type": "markdown",
   "metadata": {},
   "source": [
    "- Here, we consider two race groups, 'black' and 'white'. You can change this by choosing the corresponding groups shown above, e.g. \n",
    "> ta, tb = 'female', 'male'"
   ]
  },
  {
   "cell_type": "code",
   "execution_count": 11,
   "metadata": {},
   "outputs": [
    {
     "name": "stdout",
     "output_type": "stream",
     "text": [
      "957 white examples, 441 black examples\n"
     ]
    }
   ],
   "source": [
    "ta, tb = 'white', 'black'\n",
    "ta_df = res[(res[ta] >= 0.5) & (res[tb] < 0.5)]\n",
    "tb_df = res[(res[tb] >= 0.5) & (res[ta] < 0.5)]\n",
    "print(f\"{len(ta_df)} {ta} examples, {len(tb_df)} {tb} examples\")"
   ]
  },
  {
   "cell_type": "code",
   "execution_count": 12,
   "metadata": {},
   "outputs": [
    {
     "name": "stdout",
     "output_type": "stream",
     "text": [
      "acc white:0.8077324973876698, black:0.7596371882086168, diff:0.0481\n",
      "overall acc:0.9020653514180025\n"
     ]
    }
   ],
   "source": [
    "ta_acc = len(ta_df[ta_df['preds'] == ta_df['target']])/len(ta_df)\n",
    "tb_acc = len(tb_df[tb_df['preds'] == tb_df['target']])/len(tb_df)\n",
    "print(f\"acc {ta}:{ta_acc}, {tb}:{tb_acc}, diff:{ta_acc - tb_acc:.4f}\")\n",
    "print(f\"overall acc:{len(res[res['preds'] == res['target']])/len(res)}\")"
   ]
  },
  {
   "cell_type": "code",
   "execution_count": 13,
   "metadata": {},
   "outputs": [
    {
     "name": "stdout",
     "output_type": "stream",
     "text": [
      "(1398, 768)\n"
     ]
    }
   ],
   "source": [
    "#get all the embeddings related to these two groups\n",
    "tgs = test_embs[np.concatenate((ta_df.index.values, tb_df.index.values))]\n",
    "print(tgs.shape)"
   ]
  },
  {
   "cell_type": "code",
   "execution_count": 14,
   "metadata": {},
   "outputs": [],
   "source": [
    "# get all the prediction results regarding to these 2 groups\n",
    "tgt = pd.concat([ta_df, tb_df], axis = 0)"
   ]
  },
  {
   "cell_type": "code",
   "execution_count": 15,
   "metadata": {},
   "outputs": [
    {
     "name": "stdout",
     "output_type": "stream",
     "text": [
      "for race group, the overall accuracy is 0.7925608011444921\n"
     ]
    }
   ],
   "source": [
    "print(f\"for race group, the overall accuracy is {metrics.accuracy_score(y_true = tgt['target'], y_pred = tgt['preds'])}\")"
   ]
  },
  {
   "cell_type": "markdown",
   "metadata": {},
   "source": [
    "- ### Section 2: visualization of embeddings"
   ]
  },
  {
   "cell_type": "code",
   "execution_count": 26,
   "metadata": {},
   "outputs": [
    {
     "name": "stdout",
     "output_type": "stream",
     "text": [
      "[t-SNE] Computing 31 nearest neighbors...\n",
      "[t-SNE] Indexed 1398 samples in 0.093s...\n",
      "[t-SNE] Computed neighbors for 1398 samples in 2.862s...\n",
      "[t-SNE] Computed conditional probabilities for sample 1000 / 1398\n",
      "[t-SNE] Computed conditional probabilities for sample 1398 / 1398\n",
      "[t-SNE] Mean sigma: 1.223635\n",
      "[t-SNE] Computed conditional probabilities in 0.028s\n",
      "[t-SNE] Iteration 50: error = 82.6226196, gradient norm = 0.0065150 (50 iterations in 1.776s)\n",
      "[t-SNE] Iteration 100: error = 82.7579575, gradient norm = 0.0000115 (50 iterations in 1.660s)\n",
      "[t-SNE] Iteration 150: error = 82.7579422, gradient norm = 0.0000097 (50 iterations in 1.547s)\n",
      "[t-SNE] Iteration 200: error = 82.7579498, gradient norm = 0.0000112 (50 iterations in 1.615s)\n",
      "[t-SNE] Iteration 250: error = 82.7579498, gradient norm = 0.0000111 (50 iterations in 1.497s)\n",
      "[t-SNE] KL divergence after 250 iterations with early exaggeration: 82.757950\n",
      "[t-SNE] Iteration 300: error = 3.7523510, gradient norm = 0.0049218 (50 iterations in 1.610s)\n",
      "[t-SNE] Iteration 350: error = 3.1470582, gradient norm = 0.0030163 (50 iterations in 1.547s)\n",
      "[t-SNE] Iteration 400: error = 2.9366972, gradient norm = 0.0016892 (50 iterations in 1.609s)\n",
      "[t-SNE] Iteration 450: error = 2.8157077, gradient norm = 0.0011114 (50 iterations in 1.567s)\n",
      "[t-SNE] Iteration 500: error = 2.7344930, gradient norm = 0.0008090 (50 iterations in 1.350s)\n",
      "[t-SNE] Iteration 550: error = 2.6797783, gradient norm = 0.0006027 (50 iterations in 1.299s)\n",
      "[t-SNE] Iteration 600: error = 2.6396391, gradient norm = 0.0004745 (50 iterations in 1.445s)\n",
      "[t-SNE] Iteration 650: error = 2.6091177, gradient norm = 0.0004001 (50 iterations in 1.484s)\n",
      "[t-SNE] Iteration 700: error = 2.5847960, gradient norm = 0.0003338 (50 iterations in 1.401s)\n",
      "[t-SNE] Iteration 750: error = 2.5659657, gradient norm = 0.0002762 (50 iterations in 1.538s)\n",
      "[t-SNE] Iteration 800: error = 2.5513458, gradient norm = 0.0002432 (50 iterations in 1.595s)\n",
      "[t-SNE] Iteration 850: error = 2.5399847, gradient norm = 0.0002044 (50 iterations in 1.566s)\n",
      "[t-SNE] Iteration 900: error = 2.5309308, gradient norm = 0.0001778 (50 iterations in 1.557s)\n",
      "[t-SNE] Iteration 950: error = 2.5234234, gradient norm = 0.0001679 (50 iterations in 1.429s)\n",
      "[t-SNE] Iteration 1000: error = 2.5169737, gradient norm = 0.0001535 (50 iterations in 1.440s)\n",
      "[t-SNE] KL divergence after 1000 iterations: 2.516974\n"
     ]
    }
   ],
   "source": [
    "tsne = TSNE(n_components=2, verbose=4, perplexity=10, learning_rate=10.0, init='pca')\n",
    "tsne_results = tsne.fit_transform(tgs)"
   ]
  },
  {
   "cell_type": "code",
   "execution_count": 28,
   "metadata": {},
   "outputs": [
    {
     "data": {
      "image/png": "[encoded data removed]",
      "text/plain": [
       "<Figure size 432x288 with 2 Axes>"
      ]
     },
     "metadata": {
      "needs_background": "light"
     },
     "output_type": "display_data"
    }
   ],
   "source": [
    "NCluster = 5\n",
    "kmeans = KMeans(NCluster, random_state=1, n_jobs=20, max_iter = 300, algorithm = 'full').fit(tgs)\n",
    "utils.plot_clusters(kmeans.labels_, tsne_results, NCluster)"
   ]
  },
  {
   "cell_type": "markdown",
   "metadata": {},
   "source": [
    "- ### Section 3: Do the clustering"
   ]
  },
  {
   "cell_type": "markdown",
   "metadata": {},
   "source": [
    "- #### Clustering using vanilla K-Means\n",
    "We will first cluster examples to a large number of clusters (k=10) and then merge the smallest cluster to its closest center iteratively. Please see \"merge_clusters\" function."
   ]
  },
  {
   "cell_type": "code",
   "execution_count": 16,
   "metadata": {},
   "outputs": [
    {
     "name": "stdout",
     "output_type": "stream",
     "text": [
      "Done merge for all clusters have at least 20 M/F images\n"
     ]
    }
   ],
   "source": [
    "NCluster = 10\n",
    "kmeans = KMeans(NCluster, random_state=10, n_jobs=20, precompute_distances = False, algorithm = 'full').fit(tgs)\n",
    "kmeans_clusters_raw = kmeans.labels_\n",
    "kcenters = kmeans.cluster_centers_\n",
    "\n",
    "#calculate #white/black instances in each cluster\n",
    "gender_c = []\n",
    "for i in range(NCluster):\n",
    "    idxc = np.where(kmeans_clusters_raw == i)\n",
    "    tgtc = tgt.iloc[idxc]\n",
    "    gender_c.append(np.array([len(tgtc[tgtc[ta] >= 0.5]), len(tgtc[tgtc[tb] >= 0.5])]))\n",
    "    \n",
    "\n",
    "#Merge small clusters\n",
    "g, NCluster, kmeans_clusters = utils.merge_clusters(gender_c, kcenters, kmeans_clusters_raw, tgs)"
   ]
  },
  {
   "cell_type": "markdown",
   "metadata": {},
   "source": [
    "- #### Get the performance of each cluster"
   ]
  },
  {
   "cell_type": "code",
   "execution_count": 17,
   "metadata": {},
   "outputs": [
    {
     "name": "stdout",
     "output_type": "stream",
     "text": [
      "c 0, 112 white, 26 black, acc:0.75893,  0.53846, acc_d:0.2205\n",
      "c 1, 116 white, 41 black, acc:0.81034,  0.70732, acc_d:0.1030\n",
      "c 2, 96 white, 53 black, acc:0.84375,  0.67925, acc_d:0.1645\n",
      "c 3, 128 white, 59 black, acc:0.72656,  0.72881, acc_d:-0.0023\n",
      "c 4, 128 white, 81 black, acc:0.85156,  0.85185, acc_d:-0.0003\n",
      "c 5, 192 white, 75 black, acc:0.88021,  0.80000, acc_d:0.0802\n",
      "c 6, 122 white, 66 black, acc:0.80328,  0.81818, acc_d:-0.0149\n",
      "c 7, 63 white, 40 black, acc:0.69841,  0.75000, acc_d:-0.0516\n"
     ]
    }
   ],
   "source": [
    "res4plot = []\n",
    "for i in np.unique(kmeans_clusters):\n",
    "    idxc = np.where(kmeans_clusters == i)\n",
    "    tgtc = tgt.iloc[idxc]\n",
    "    tac = tgtc[tgtc[ta] >= 0.5]\n",
    "    tbc = tgtc[tgtc[tb] >= 0.5]\n",
    "    accac = metrics.accuracy_score(y_true=tac['target'], y_pred = tac['preds'])\n",
    "    accbc = metrics.accuracy_score(y_true=tbc['target'], y_pred = tbc['preds'])\n",
    "    res4plot.append([accac, accbc, abs(accac-accbc)])\n",
    "    print(f\"c {i}, {len(tac)} {ta}, {len(tbc)} {tb}, acc:{accac:.5f}, {accbc: .5f}, acc_d:{accac - accbc:.4f}\")"
   ]
  },
  {
   "cell_type": "code",
   "execution_count": 18,
   "metadata": {},
   "outputs": [],
   "source": [
    "from matplotlib import pyplot as plt"
   ]
  },
  {
   "cell_type": "code",
   "execution_count": 19,
   "metadata": {},
   "outputs": [
    {
     "data": {
      "image/png": "[encoded data removed]",
      "text/plain": [
       "<Figure size 432x288 with 1 Axes>"
      ]
     },
     "metadata": {
      "needs_background": "light"
     },
     "output_type": "display_data"
    }
   ],
   "source": [
    "plt.close('all')\n",
    "plt.rc('font', size=13)  \n",
    "res4plot.append([ta_acc, tb_acc, abs(ta_acc - tb_acc)])\n",
    "for i in range(len(res4plot)):\n",
    "    x = [i, i]\n",
    "    y = [res4plot[i][0], res4plot[i][1]]\n",
    "    plt.plot(x, y, '--', color ='green', linewidth=2)\n",
    "plt.plot([8, 8], [ta_acc, tb_acc], '--', color ='green', linewidth=2)\n",
    "plt.scatter(range(len(res4plot) ),np.array(res4plot)[:,0], label = 'W', marker ='o', s=80)\n",
    "plt.scatter(range(len(res4plot)), np.array(res4plot)[:, 1], label = 'B', marker = 's', s=80)\n",
    "plt.ylabel('Accuracy')\n",
    "plt.ylim([0.48, 0.95])\n",
    "plt.xticks(range(len(res4plot) -1))\n",
    "plt.legend()\n",
    "plt.savefig('race_acc_gap_kmeans.pdf')\n",
    "plt.show()"
   ]
  },
  {
   "cell_type": "code",
   "execution_count": 20,
   "metadata": {},
   "outputs": [],
   "source": [
    "def get_inertia(clusters, embs):\n",
    "    dis = 0\n",
    "    for c in np.unique(clusters):\n",
    "        idxc = np.where(clusters == c)\n",
    "        centers = np.average(embs[idxc], axis = 0)\n",
    "        norms =  np.linalg.norm((embs[idxc]- centers), axis = 0)**2\n",
    "        dis += norms.sum()\n",
    "    return dis"
   ]
  },
  {
   "cell_type": "markdown",
   "metadata": {},
   "source": [
    "- #### Do clustering based on LOGAN"
   ]
  },
  {
   "cell_type": "code",
   "execution_count": 21,
   "metadata": {},
   "outputs": [],
   "source": [
    "from sklearn.cluster import KMeans_logan"
   ]
  },
  {
   "cell_type": "code",
   "execution_count": 22,
   "metadata": {},
   "outputs": [],
   "source": [
    "#For the variable \"atts\" here, it is used to differentiate the two groups \n",
    "atts = np.concatenate((np.zeros(len(ta_df)), np.ones(len(tb_df))))\n",
    "attributes = np.stack((tgt['target'], tgt['preds'], atts), axis = -1).astype(\"float32\")"
   ]
  },
  {
   "cell_type": "code",
   "execution_count": 23,
   "metadata": {},
   "outputs": [
    {
     "name": "stdout",
     "output_type": "stream",
     "text": [
      "Done merge for all clusters have at least 20 M/F images\n"
     ]
    }
   ],
   "source": [
    "NCluster = 10\n",
    "ikmeans = KMeans_logan(NCluster, random_state=10, n_jobs = -1, precompute_distances = False, eta= -5, algorithm = 'full').fit(tgs, attributes)\n",
    "ikmeans_clusters_raw = ikmeans.labels_\n",
    "ikcenters = ikmeans.cluster_centers_\n",
    "\n",
    "#calculate #white/black instances in each cluster\n",
    "igender_c = []\n",
    "for i in range(NCluster):\n",
    "    idxc = np.where(ikmeans_clusters_raw == i)\n",
    "    tgtc = tgt.iloc[idxc]\n",
    "    igender_c.append(np.array([len(tgtc[tgtc[ta] >= 0.5]), len(tgtc[tgtc[tb] >= 0.5])]))\n",
    "\n",
    "    #Merge small clusters\n",
    "ig, iNCluster, ikmeans_clusters = utils.merge_clusters(igender_c, ikcenters, ikmeans_clusters_raw, tgs)"
   ]
  },
  {
   "cell_type": "code",
   "execution_count": 25,
   "metadata": {},
   "outputs": [
    {
     "name": "stdout",
     "output_type": "stream",
     "text": [
      "c 0, 103 white, 29 black, acc:0.76699,  0.55172, acc_d:0.2153\n",
      "c 1, 130 white, 43 black, acc:0.83077,  0.67442, acc_d:0.1564\n",
      "c 2, 109 white, 56 black, acc:0.85321,  0.71429, acc_d:0.1389\n",
      "c 3, 62 white, 42 black, acc:0.64516,  0.71429, acc_d:-0.0691\n",
      "c 4, 142 white, 77 black, acc:0.83803,  0.84416, acc_d:-0.0061\n",
      "c 5, 246 white, 92 black, acc:0.85772,  0.80435, acc_d:0.0534\n",
      "c 6, 111 white, 64 black, acc:0.79279,  0.82812, acc_d:-0.0353\n",
      "c 7, 54 white, 38 black, acc:0.64815,  0.73684, acc_d:-0.0887\n",
      "inertia: kmeans37574.896728515625, ikmeans:37658.902099609375, ratio:1.0022356780299544\n"
     ]
    }
   ],
   "source": [
    "res4plot = []\n",
    "for i in range(iNCluster):\n",
    "    idxc = np.where(ikmeans_clusters == i)\n",
    "    tgtc = tgt.iloc[idxc]\n",
    "    tac = tgtc[tgtc[ta] >= 0.5]\n",
    "    tbc = tgtc[tgtc[tb] >= 0.5]\n",
    "    accac = metrics.accuracy_score(y_true=tac['target'], y_pred = tac['preds'])\n",
    "    accbc = metrics.accuracy_score(y_true=tbc['target'], y_pred = tbc['preds'])\n",
    "    res4plot.append([accac, accbc, abs(accac - accbc)])\n",
    "    print(f\"c {i}, {len(tac)} {ta}, {len(tbc)} {tb}, acc:{accac:.5f}, {accbc: .5f}, acc_d:{accac - accbc:.4f}\")\n",
    "    \n",
    "    \n",
    "inertia_kmeans = get_inertia(kmeans_clusters, tgs)\n",
    "inertia_ikmeans = get_inertia(ikmeans_clusters, tgs)\n",
    "print(f\"inertia: kmeans{inertia_kmeans}, ikmeans:{inertia_ikmeans}, ratio:{inertia_ikmeans / inertia_kmeans}\")"
   ]
  },
  {
   "cell_type": "code",
   "execution_count": 26,
   "metadata": {},
   "outputs": [
    {
     "data": {
      "image/png": "[encoded data removed]",
      "text/plain": [
       "<Figure size 432x288 with 1 Axes>"
      ]
     },
     "metadata": {
      "needs_background": "light"
     },
     "output_type": "display_data"
    }
   ],
   "source": [
    "plt.close('all')\n",
    "plt.rc('font', size=13)  \n",
    "res4plot.append([ta_acc, tb_acc, abs(ta_acc - tb_acc)])\n",
    "for i in range(len(res4plot)):\n",
    "    x = [i, i]\n",
    "    y = [res4plot[i][0], res4plot[i][1]]\n",
    "    plt.plot(x, y, '--', color ='green', linewidth=2)\n",
    "plt.plot([8, 8], [ta_acc, tb_acc], '--', color ='green', linewidth=2)\n",
    "plt.scatter(range(len(res4plot) ),np.array(res4plot)[:,0], label = 'W', marker ='o', s=80)\n",
    "plt.scatter(range(len(res4plot)), np.array(res4plot)[:, 1], label = 'B', marker = 's', s=80)\n",
    "plt.ylabel('Accuracy')\n",
    "plt.ylim([0.48, 0.95])\n",
    "plt.xticks(range(len(res4plot) -1))\n",
    "plt.legend()\n",
    "plt.savefig('race_acc_gap_logan.pdf')\n",
    "plt.show()"
   ]
  },
  {
   "cell_type": "code",
   "execution_count": null,
   "metadata": {},
   "outputs": [],
   "source": []
  },
  {
   "cell_type": "markdown",
   "metadata": {},
   "source": [
    "- ## Section 4: topics in each cluster"
   ]
  },
  {
   "cell_type": "code",
   "execution_count": 27,
   "metadata": {},
   "outputs": [],
   "source": [
    "from nltk.corpus import stopwords\n",
    "stop = stopwords.words('english')"
   ]
  },
  {
   "cell_type": "code",
   "execution_count": 28,
   "metadata": {},
   "outputs": [],
   "source": [
    "stop = set(stop)\n",
    "with open('stoplist_final.txt', 'r') as f:\n",
    "    for s in f.readlines():\n",
    "        stop.add(s.strip())"
   ]
  },
  {
   "cell_type": "code",
   "execution_count": 29,
   "metadata": {},
   "outputs": [],
   "source": [
    "tgt['tokenized'] = tgt['comment_text'].apply(lambda x: word_tokenize(x))\n",
    "tgt['non_stopped'] = tgt['tokenized'].apply(lambda x: [item.lower() for item in x if (item.lower() not in stop and item.isalnum())])"
   ]
  },
  {
   "cell_type": "code",
   "execution_count": 33,
   "metadata": {},
   "outputs": [
    {
     "name": "stdout",
     "output_type": "stream",
     "text": [
      "957 441\n",
      "acc for white: 0.8077324973876698 , black: 0.7596371882086168, diff:0.0481\n",
      "number of examples containing 'racist' in white: 104, in black: 33\n",
      "0.7980769230769231 0.6060606060606061 diff: 0.19201631701631705\n"
     ]
    }
   ],
   "source": [
    "stg = 'racist'\n",
    "ta_df = tgt[(tgt[ta] >= 0.5) & (tgt[tb] < 0.5)]\n",
    "tb_df = tgt[(tgt[tb] >= 0.5) & (tgt[ta] < 0.5)]\n",
    "acc1 = len(ta_df[ta_df['preds'] == ta_df['target']])/len(ta_df)\n",
    "acc2 = len(tb_df[tb_df['preds'] == tb_df['target']])/len(tb_df)\n",
    "print(len(ta_df), len(tb_df))\n",
    "print(f\"acc for {ta}: {acc1} , {tb}: {acc2}, diff:{acc1-acc2:.4f}\")\n",
    "t1 = ta_df[ta_df['non_stopped'].apply(lambda x: stg in x)]\n",
    "t2 = tb_df[tb_df['non_stopped'].apply(lambda x: stg in x)]\n",
    "print(f\"number of examples containing '{stg}' in {ta}: {len(t1)}, in {tb}: {len(t2)}\")\n",
    "acc1 = metrics.accuracy_score(y_true = t1['target'], y_pred = t1['preds'])\n",
    "acc2 = metrics.accuracy_score(y_true = t2['target'], y_pred = t2['preds'])\n",
    "print(acc1, acc2 , \"diff:\", acc1-acc2 )"
   ]
  },
  {
   "cell_type": "markdown",
   "metadata": {},
   "source": [
    "  "
   ]
  },
  {
   "cell_type": "markdown",
   "metadata": {},
   "source": [
    "### LDA topic model"
   ]
  },
  {
   "cell_type": "code",
   "execution_count": 34,
   "metadata": {},
   "outputs": [],
   "source": [
    "from nltk.stem import WordNetLemmatizer, PorterStemmer"
   ]
  },
  {
   "cell_type": "code",
   "execution_count": 35,
   "metadata": {},
   "outputs": [],
   "source": [
    "np.random.seed(1110)"
   ]
  },
  {
   "cell_type": "code",
   "execution_count": 36,
   "metadata": {},
   "outputs": [
    {
     "name": "stderr",
     "output_type": "stream",
     "text": [
      "[nltk_data] Downloading package wordnet to /home/jyzhao/nltk_data...\n",
      "[nltk_data]   Package wordnet is already up-to-date!\n"
     ]
    },
    {
     "data": {
      "text/plain": [
       "True"
      ]
     },
     "execution_count": 36,
     "metadata": {},
     "output_type": "execute_result"
    }
   ],
   "source": [
    "import nltk\n",
    "nltk.download('wordnet')"
   ]
  },
  {
   "cell_type": "code",
   "execution_count": 37,
   "metadata": {},
   "outputs": [],
   "source": [
    "def stemming(text):\n",
    "    stems = []\n",
    "    for w in text:\n",
    "        stems.append(PorterStemmer().stem(w))\n",
    "    return stems"
   ]
  },
  {
   "cell_type": "code",
   "execution_count": 38,
   "metadata": {},
   "outputs": [],
   "source": [
    "tgt['stem'] = tgt['non_stopped'].map(stemming)"
   ]
  },
  {
   "cell_type": "code",
   "execution_count": 39,
   "metadata": {},
   "outputs": [],
   "source": [
    "from sklearn.feature_extraction.text import CountVectorizer"
   ]
  },
  {
   "cell_type": "code",
   "execution_count": 40,
   "metadata": {},
   "outputs": [],
   "source": [
    "import matplotlib.pyplot as plt\n",
    "from sklearn.decomposition import LatentDirichletAllocation as LDA"
   ]
  },
  {
   "cell_type": "markdown",
   "metadata": {},
   "source": [
    "- Read about LDA and the corresponding code from [here](https://towardsdatascience.com/end-to-end-topic-modeling-in-python-latent-dirichlet-allocation-lda-35ce4ed6b3e0)"
   ]
  },
  {
   "cell_type": "code",
   "execution_count": 41,
   "metadata": {},
   "outputs": [],
   "source": [
    "def plot_10_most_common_words(count_data, count_vectorizer):\n",
    "    \n",
    "    words = count_vectorizer.get_feature_names()\n",
    "    total_counts = np.zeros(len(words))\n",
    "    for t in count_data:\n",
    "        total_counts+=t.toarray()[0]\n",
    "    \n",
    "    count_dict = (zip(words, total_counts))\n",
    "    count_dict = sorted(count_dict, key=lambda x:x[1], reverse=True)[0:10]\n",
    "    words = [w[0] for w in count_dict]\n",
    "    counts = [w[1] for w in count_dict]\n",
    "    x_pos = np.arange(len(words)) \n",
    "    \n",
    "    plt.figure(2, figsize=(15, 15/1.6180))\n",
    "    plt.subplot(title='10 most common words')\n",
    "    plt.bar(x_pos, counts)\n",
    "    plt.xticks(x_pos, words, rotation=90) \n",
    "    plt.xlabel('words')\n",
    "    plt.ylabel('counts')\n",
    "    plt.show()"
   ]
  },
  {
   "cell_type": "code",
   "execution_count": 49,
   "metadata": {},
   "outputs": [],
   "source": [
    "def print_topics(model, count_vectorizer, topk):\n",
    "    keywords = set()\n",
    "    words = count_vectorizer.get_feature_names()\n",
    "    for topic_idx, topic in enumerate(model.components_):\n",
    "        print(\"\\nTopic #%d:\" % topic_idx)\n",
    "        print(\" \".join([words[i]\n",
    "                        for i in topic.argsort()[:-topk -1: -1]]))\n",
    "        x = topic.argsort()[:-topk-1 : -1]\n",
    "        keywords.update(set(x))\n",
    "    return list(keywords)\n"
   ]
  },
  {
   "cell_type": "markdown",
   "metadata": {},
   "source": [
    "- In LOGAN, cluster 0 and 4 have the most and least biased results. Change the ikmeans.labels_ in below function to see the results from those two clusters."
   ]
  },
  {
   "cell_type": "code",
   "execution_count": 54,
   "metadata": {},
   "outputs": [],
   "source": [
    "cv = CountVectorizer()\n",
    "clusterid = 0\n",
    "count_data = cv.fit_transform(tgt.iloc[np.where(ikmeans.labels_ == clusterid)]['non_stopped'].apply(lambda x: ' '.join(x)))"
   ]
  },
  {
   "cell_type": "code",
   "execution_count": 53,
   "metadata": {},
   "outputs": [],
   "source": [
    "# plot_10_most_common_words(count_data, cv)"
   ]
  },
  {
   "cell_type": "code",
   "execution_count": 55,
   "metadata": {},
   "outputs": [
    {
     "name": "stdout",
     "output_type": "stream",
     "text": [
      "Topics for cluster 0 found via LDA:\n",
      "\n",
      "Topic #0:\n",
      "white trump black supremacist supremacists kkk people party america racist president support vote sessions voters republican said obama man base bannon nationalists fascist groups fact right need country supremacy first\n"
     ]
    }
   ],
   "source": [
    "# Tweak the two parameters below\n",
    "number_topics = 1\n",
    "topk = 30\n",
    "# Create and fit the LDA model\n",
    "lda = LDA(n_components=number_topics, n_jobs=-1, random_state=1100)\n",
    "lda.fit(count_data)\n",
    "# Print the topics found by the LDA model\n",
    "print(f\"Topics for cluster {clusterid} found via LDA:\")\n",
    "kws = print_topics(lda, cv, topk)"
   ]
  },
  {
   "cell_type": "code",
   "execution_count": null,
   "metadata": {},
   "outputs": [],
   "source": []
  },
  {
   "cell_type": "markdown",
   "metadata": {},
   "source": [
    "- ### Extra\n",
    "\n",
    "What's happening in those clusters where the black group has a higher accuracy, for example in cluster 7 & 3?"
   ]
  },
  {
   "cell_type": "code",
   "execution_count": 56,
   "metadata": {},
   "outputs": [
    {
     "name": "stdout",
     "output_type": "stream",
     "text": [
      "Topics for cluster 7 found via LDA:\n",
      "\n",
      "Topic #0:\n",
      "white black nigga work comments global get first feds dmc damn crap conspiracy comes coming helicopters cheese celebration capitulation came cali boys appropriate americans got jawaiian honor reading wondering woman\n"
     ]
    }
   ],
   "source": [
    "cv = CountVectorizer()\n",
    "clusterid = 7\n",
    "count_data = cv.fit_transform(tgt.iloc[np.where(ikmeans.labels_ == clusterid)]['non_stopped'].apply(lambda x: ' '.join(x)))\n",
    "number_topics = 1\n",
    "topk = 30\n",
    "# Create and fit the LDA model\n",
    "lda = LDA(n_components=number_topics, n_jobs=-1, random_state=1100)\n",
    "lda.fit(count_data)\n",
    "# Print the topics found by the LDA model\n",
    "print(f\"Topics for cluster {clusterid} found via LDA:\")\n",
    "kws = print_topics(lda, cv, topk)"
   ]
  },
  {
   "cell_type": "code",
   "execution_count": 57,
   "metadata": {},
   "outputs": [
    {
     "name": "stdout",
     "output_type": "stream",
     "text": [
      "Topics for cluster 3 found via LDA:\n",
      "\n",
      "Topic #0:\n",
      "white black people go usa trump like supremacist take right men old world police another america time get country nfl left city think hate life next see new year blacks\n"
     ]
    }
   ],
   "source": [
    "cv = CountVectorizer()\n",
    "clusterid = 3\n",
    "count_data = cv.fit_transform(tgt.iloc[np.where(ikmeans.labels_ == clusterid)]['non_stopped'].apply(lambda x: ' '.join(x)))\n",
    "number_topics = 1\n",
    "topk = 30\n",
    "# Create and fit the LDA model\n",
    "lda = LDA(n_components=number_topics, n_jobs=-1, random_state=1100)\n",
    "lda.fit(count_data)\n",
    "# Print the topics found by the LDA model\n",
    "print(f\"Topics for cluster {clusterid} found via LDA:\")\n",
    "kws = print_topics(lda, cv, topk)"
   ]
  },
  {
   "cell_type": "code",
   "execution_count": null,
   "metadata": {},
   "outputs": [],
   "source": []
  }
 ],
 "metadata": {
  "kernelspec": {
   "display_name": "Python 3",
   "language": "python",
   "name": "python3"
  },
  "language_info": {
   "codemirror_mode": {
    "name": "ipython",
    "version": 3
   },
   "file_extension": ".py",
   "mimetype": "text/x-python",
   "name": "python",
   "nbconvert_exporter": "python",
   "pygments_lexer": "ipython3",
   "version": "3.7.6"
  }
 },
 "nbformat": 4,
 "nbformat_minor": 4
}
